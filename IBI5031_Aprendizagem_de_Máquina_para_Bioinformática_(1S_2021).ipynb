{
  "nbformat": 4,
  "nbformat_minor": 0,
  "metadata": {
    "colab": {
      "name": "IBI5031 - Aprendizagem de Máquina para Bioinformática (1S 2021).ipynb",
      "provenance": [],
      "authorship_tag": "ABX9TyN//vnxV2yH2ZXPV4h8D6/H",
      "include_colab_link": true
    },
    "kernelspec": {
      "name": "python3",
      "display_name": "Python 3"
    },
    "language_info": {
      "name": "python"
    }
  },
  "cells": [
    {
      "cell_type": "markdown",
      "metadata": {
        "id": "view-in-github",
        "colab_type": "text"
      },
      "source": [
        "<a href=\"https://colab.research.google.com/github/Kur1sutaru/IBI5031-Machine-Learning-apply-to-Bioinformatics/blob/main/IBI5031_Aprendizagem_de_M%C3%A1quina_para_Bioinform%C3%A1tica_(1S_2021).ipynb\" target=\"_parent\"><img src=\"https://colab.research.google.com/assets/colab-badge.svg\" alt=\"Open In Colab\"/></a>"
      ]
    },
    {
      "cell_type": "markdown",
      "metadata": {
        "id": "EqrCGetfH2wL"
      },
      "source": [
        "Cadernos da disciplina IBI5031 - Aprendizagem de Máquina para Bioinformática (1S 2021)\n"
      ]
    },
    {
      "cell_type": "code",
      "metadata": {
        "colab": {
          "base_uri": "https://localhost:8080/"
        },
        "id": "8ghwKZfWHzOS",
        "outputId": "9f7d59b5-5658-4af6-e388-8352e3edb6da"
      },
      "source": [
        "print(\"Os humilhados tbm serão exaltados\")"
      ],
      "execution_count": 1,
      "outputs": [
        {
          "output_type": "stream",
          "text": [
            "Os humilhados tbm serão exaltados\n"
          ],
          "name": "stdout"
        }
      ]
    },
    {
      "cell_type": "markdown",
      "metadata": {
        "id": "8fx4A5VXITuf"
      },
      "source": [
        "Tutorial simples de como usar collab <https://www.alura.com.br/artigos/google-colab-o-que-e-e-como-usar>"
      ]
    }
  ]
}