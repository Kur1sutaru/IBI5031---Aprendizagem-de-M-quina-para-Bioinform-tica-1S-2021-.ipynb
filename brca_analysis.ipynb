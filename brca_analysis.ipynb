{
  "nbformat": 4,
  "nbformat_minor": 0,
  "metadata": {
    "colab": {
      "name": "brca-analysis.ipynb",
      "provenance": [],
      "include_colab_link": true
    },
    "kernelspec": {
      "name": "python3",
      "display_name": "Python 3"
    },
    "language_info": {
      "name": "python"
    }
  },
  "cells": [
    {
      "cell_type": "markdown",
      "metadata": {
        "id": "view-in-github",
        "colab_type": "text"
      },
      "source": [
        "<a href=\"https://colab.research.google.com/github/Kur1sutaru/IBI5031-Machine-Learning-apply-to-Bioinformatics/blob/main/brca_analysis.ipynb\" target=\"_parent\"><img src=\"https://colab.research.google.com/assets/colab-badge.svg\" alt=\"Open In Colab\"/></a>"
      ]
    },
    {
      "cell_type": "code",
      "metadata": {
        "id": "-Fhrn4sse7-Q"
      },
      "source": [
        "import pandas as pd\n"
      ],
      "execution_count": 35,
      "outputs": []
    },
    {
      "cell_type": "code",
      "metadata": {
        "colab": {
          "resources": {
            "http://localhost:8080/nbextensions/google.colab/files.js": {
              "data": "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",
              "ok": true,
              "headers": [
                [
                  "content-type",
                  "application/javascript"
                ]
              ],
              "status": 200,
              "status_text": ""
            }
          },
          "base_uri": "https://localhost:8080/",
          "height": 73
        },
        "id": "lwTW1GjqfeIT",
        "outputId": "e701e075-7346-4326-be1f-4e3d0712d93e"
      },
      "source": [
        "from google.colab import files\n",
        "uploaded = files.upload()"
      ],
      "execution_count": 36,
      "outputs": [
        {
          "output_type": "display_data",
          "data": {
            "text/html": [
              "\n",
              "     <input type=\"file\" id=\"files-5c70673f-054c-4fd5-adb1-8c5a6131bbe7\" name=\"files[]\" multiple disabled\n",
              "        style=\"border:none\" />\n",
              "     <output id=\"result-5c70673f-054c-4fd5-adb1-8c5a6131bbe7\">\n",
              "      Upload widget is only available when the cell has been executed in the\n",
              "      current browser session. Please rerun this cell to enable.\n",
              "      </output>\n",
              "      <script src=\"/nbextensions/google.colab/files.js\"></script> "
            ],
            "text/plain": [
              "<IPython.core.display.HTML object>"
            ]
          },
          "metadata": {
            "tags": []
          }
        },
        {
          "output_type": "stream",
          "text": [
            "Saving brca-clinical-subtype.csv to brca-clinical-subtype.csv\n"
          ],
          "name": "stdout"
        }
      ]
    },
    {
      "cell_type": "code",
      "metadata": {
        "id": "e_HZK5i5Tj4A"
      },
      "source": [
        "dados_pancan = pd.read_csv('pancanbrca_data.csv')"
      ],
      "execution_count": 5,
      "outputs": []
    },
    {
      "cell_type": "code",
      "metadata": {
        "id": "Y_7vWFUVfqVv"
      },
      "source": [
        "dados_brca = pd.read_csv('brca-clinical-subtype.csv')"
      ],
      "execution_count": 37,
      "outputs": []
    },
    {
      "cell_type": "markdown",
      "metadata": {
        "id": "MqOASeqsgMqK"
      },
      "source": [
        "### Dados de expressão diferencial entre amostras normais e tumorais"
      ]
    },
    {
      "cell_type": "code",
      "metadata": {
        "colab": {
          "base_uri": "https://localhost:8080/",
          "height": 391
        },
        "id": "NMvSlegpfyL3",
        "outputId": "084efa6a-3657-49e4-a1af-634c39452f4e"
      },
      "source": [
        "dados_brca.head()"
      ],
      "execution_count": 38,
      "outputs": [
        {
          "output_type": "execute_result",
          "data": {
            "text/html": [
              "<div>\n",
              "<style scoped>\n",
              "    .dataframe tbody tr th:only-of-type {\n",
              "        vertical-align: middle;\n",
              "    }\n",
              "\n",
              "    .dataframe tbody tr th {\n",
              "        vertical-align: top;\n",
              "    }\n",
              "\n",
              "    .dataframe thead th {\n",
              "        text-align: right;\n",
              "    }\n",
              "</style>\n",
              "<table border=\"1\" class=\"dataframe\">\n",
              "  <thead>\n",
              "    <tr style=\"text-align: right;\">\n",
              "      <th></th>\n",
              "      <th>Unnamed: 0</th>\n",
              "      <th>patient</th>\n",
              "      <th>Tumor.Type</th>\n",
              "      <th>Included_in_previous_marker_papers</th>\n",
              "      <th>vital_status</th>\n",
              "      <th>days_to_birth</th>\n",
              "      <th>days_to_death</th>\n",
              "      <th>days_to_last_followup</th>\n",
              "      <th>age_at_initial_pathologic_diagnosis</th>\n",
              "      <th>pathologic_stage</th>\n",
              "      <th>Tumor_Grade</th>\n",
              "      <th>BRCA_Pathology</th>\n",
              "      <th>BRCA_Subtype_PAM50</th>\n",
              "      <th>MSI_status</th>\n",
              "      <th>HPV_Status</th>\n",
              "      <th>tobacco_smoking_history</th>\n",
              "      <th>CNV Clusters</th>\n",
              "      <th>Mutation Clusters</th>\n",
              "      <th>DNA.Methylation Clusters</th>\n",
              "      <th>mRNA Clusters</th>\n",
              "      <th>miRNA Clusters</th>\n",
              "      <th>lncRNA Clusters</th>\n",
              "      <th>Protein Clusters</th>\n",
              "      <th>PARADIGM Clusters</th>\n",
              "      <th>Pan-Gyn Clusters</th>\n",
              "    </tr>\n",
              "  </thead>\n",
              "  <tbody>\n",
              "    <tr>\n",
              "      <th>0</th>\n",
              "      <td>1</td>\n",
              "      <td>TCGA-3C-AAAU</td>\n",
              "      <td>BRCA</td>\n",
              "      <td>NO</td>\n",
              "      <td>Alive</td>\n",
              "      <td>-20211.0</td>\n",
              "      <td>NaN</td>\n",
              "      <td>4047.0</td>\n",
              "      <td>55</td>\n",
              "      <td>NaN</td>\n",
              "      <td>NaN</td>\n",
              "      <td>NaN</td>\n",
              "      <td>LumA</td>\n",
              "      <td>NaN</td>\n",
              "      <td>NaN</td>\n",
              "      <td>NaN</td>\n",
              "      <td>C6</td>\n",
              "      <td>C7</td>\n",
              "      <td>C1</td>\n",
              "      <td>C1</td>\n",
              "      <td>C3</td>\n",
              "      <td>NaN</td>\n",
              "      <td>NaN</td>\n",
              "      <td>C5</td>\n",
              "      <td>NaN</td>\n",
              "    </tr>\n",
              "    <tr>\n",
              "      <th>1</th>\n",
              "      <td>2</td>\n",
              "      <td>TCGA-3C-AALI</td>\n",
              "      <td>BRCA</td>\n",
              "      <td>NO</td>\n",
              "      <td>Alive</td>\n",
              "      <td>-18538.0</td>\n",
              "      <td>NaN</td>\n",
              "      <td>4005.0</td>\n",
              "      <td>50</td>\n",
              "      <td>Stage_II</td>\n",
              "      <td>NaN</td>\n",
              "      <td>NaN</td>\n",
              "      <td>Her2</td>\n",
              "      <td>NaN</td>\n",
              "      <td>NaN</td>\n",
              "      <td>NaN</td>\n",
              "      <td>C6</td>\n",
              "      <td>C9</td>\n",
              "      <td>C2</td>\n",
              "      <td>C2</td>\n",
              "      <td>C3</td>\n",
              "      <td>NaN</td>\n",
              "      <td>C2</td>\n",
              "      <td>C4</td>\n",
              "      <td>C4</td>\n",
              "    </tr>\n",
              "    <tr>\n",
              "      <th>2</th>\n",
              "      <td>3</td>\n",
              "      <td>TCGA-3C-AALJ</td>\n",
              "      <td>BRCA</td>\n",
              "      <td>NO</td>\n",
              "      <td>Alive</td>\n",
              "      <td>-22848.0</td>\n",
              "      <td>NaN</td>\n",
              "      <td>1474.0</td>\n",
              "      <td>62</td>\n",
              "      <td>Stage_II</td>\n",
              "      <td>NaN</td>\n",
              "      <td>NaN</td>\n",
              "      <td>LumB</td>\n",
              "      <td>NaN</td>\n",
              "      <td>NaN</td>\n",
              "      <td>NaN</td>\n",
              "      <td>C6</td>\n",
              "      <td>C4</td>\n",
              "      <td>C2</td>\n",
              "      <td>C2</td>\n",
              "      <td>C2</td>\n",
              "      <td>NaN</td>\n",
              "      <td>NaN</td>\n",
              "      <td>C4</td>\n",
              "      <td>NaN</td>\n",
              "    </tr>\n",
              "    <tr>\n",
              "      <th>3</th>\n",
              "      <td>4</td>\n",
              "      <td>TCGA-3C-AALK</td>\n",
              "      <td>BRCA</td>\n",
              "      <td>NO</td>\n",
              "      <td>Alive</td>\n",
              "      <td>-19074.0</td>\n",
              "      <td>NaN</td>\n",
              "      <td>1448.0</td>\n",
              "      <td>52</td>\n",
              "      <td>Stage_I</td>\n",
              "      <td>NaN</td>\n",
              "      <td>NaN</td>\n",
              "      <td>LumA</td>\n",
              "      <td>NaN</td>\n",
              "      <td>NaN</td>\n",
              "      <td>NaN</td>\n",
              "      <td>C1</td>\n",
              "      <td>C5</td>\n",
              "      <td>C2</td>\n",
              "      <td>C2</td>\n",
              "      <td>C2</td>\n",
              "      <td>NaN</td>\n",
              "      <td>C2</td>\n",
              "      <td>C6</td>\n",
              "      <td>C4</td>\n",
              "    </tr>\n",
              "    <tr>\n",
              "      <th>4</th>\n",
              "      <td>5</td>\n",
              "      <td>TCGA-4H-AAAK</td>\n",
              "      <td>BRCA</td>\n",
              "      <td>NO</td>\n",
              "      <td>Alive</td>\n",
              "      <td>-18371.0</td>\n",
              "      <td>NaN</td>\n",
              "      <td>348.0</td>\n",
              "      <td>50</td>\n",
              "      <td>Stage_III</td>\n",
              "      <td>NaN</td>\n",
              "      <td>NaN</td>\n",
              "      <td>LumA</td>\n",
              "      <td>NaN</td>\n",
              "      <td>NaN</td>\n",
              "      <td>NaN</td>\n",
              "      <td>C6</td>\n",
              "      <td>C4</td>\n",
              "      <td>C1</td>\n",
              "      <td>C2</td>\n",
              "      <td>C2</td>\n",
              "      <td>NaN</td>\n",
              "      <td>C2</td>\n",
              "      <td>C6</td>\n",
              "      <td>C1</td>\n",
              "    </tr>\n",
              "  </tbody>\n",
              "</table>\n",
              "</div>"
            ],
            "text/plain": [
              "   Unnamed: 0       patient  ... PARADIGM Clusters Pan-Gyn Clusters\n",
              "0           1  TCGA-3C-AAAU  ...                C5              NaN\n",
              "1           2  TCGA-3C-AALI  ...                C4               C4\n",
              "2           3  TCGA-3C-AALJ  ...                C4              NaN\n",
              "3           4  TCGA-3C-AALK  ...                C6               C4\n",
              "4           5  TCGA-4H-AAAK  ...                C6               C1\n",
              "\n",
              "[5 rows x 25 columns]"
            ]
          },
          "metadata": {
            "tags": []
          },
          "execution_count": 38
        }
      ]
    },
    {
      "cell_type": "code",
      "metadata": {
        "colab": {
          "base_uri": "https://localhost:8080/"
        },
        "id": "9s0ZRd7HgiNb",
        "outputId": "cb12041b-7f48-4990-f909-a8cc41392b3e"
      },
      "source": [
        "dados_brca.shape"
      ],
      "execution_count": 8,
      "outputs": [
        {
          "output_type": "execute_result",
          "data": {
            "text/plain": [
              "(1087, 25)"
            ]
          },
          "metadata": {
            "tags": []
          },
          "execution_count": 8
        }
      ]
    },
    {
      "cell_type": "markdown",
      "metadata": {
        "id": "YqiQnx0RgT4Q"
      },
      "source": [
        "### Dados clínicos e subtipos moleculares"
      ]
    },
    {
      "cell_type": "code",
      "metadata": {
        "colab": {
          "base_uri": "https://localhost:8080/",
          "height": 509
        },
        "id": "duxMzEUjTyoc",
        "outputId": "ad23c629-8627-401f-f782-52734a7e2dfa"
      },
      "source": [
        "dados_pancan.head()"
      ],
      "execution_count": 6,
      "outputs": [
        {
          "output_type": "execute_result",
          "data": {
            "text/html": [
              "<div>\n",
              "<style scoped>\n",
              "    .dataframe tbody tr th:only-of-type {\n",
              "        vertical-align: middle;\n",
              "    }\n",
              "\n",
              "    .dataframe tbody tr th {\n",
              "        vertical-align: top;\n",
              "    }\n",
              "\n",
              "    .dataframe thead th {\n",
              "        text-align: right;\n",
              "    }\n",
              "</style>\n",
              "<table border=\"1\" class=\"dataframe\">\n",
              "  <thead>\n",
              "    <tr style=\"text-align: right;\">\n",
              "      <th></th>\n",
              "      <th>Patient ID</th>\n",
              "      <th>Sample ID</th>\n",
              "      <th>cancer_tpe_detailed</th>\n",
              "      <th>Mutation Count</th>\n",
              "      <th>Fraction Genome Altered</th>\n",
              "      <th>Diagnosis Age</th>\n",
              "      <th>MSI MANTIS Score</th>\n",
              "      <th>MSIsensor Score</th>\n",
              "      <th>Overall Survival Status</th>\n",
              "      <th>Sex</th>\n",
              "      <th>Ethnicity</th>\n",
              "      <th>Race</th>\n",
              "      <th>Subtype</th>\n",
              "      <th>Tumor_Type</th>\n",
              "      <th>10p Status</th>\n",
              "      <th>10q Status</th>\n",
              "      <th>11p Status</th>\n",
              "      <th>11q Status</th>\n",
              "      <th>12p Status</th>\n",
              "    </tr>\n",
              "  </thead>\n",
              "  <tbody>\n",
              "    <tr>\n",
              "      <th>0</th>\n",
              "      <td>TCGA-3C-AAAU</td>\n",
              "      <td>TCGA-3C-AAAU-01</td>\n",
              "      <td>Breast Invasive Lobular Carcinoma</td>\n",
              "      <td>24.0</td>\n",
              "      <td>0.7787</td>\n",
              "      <td>55</td>\n",
              "      <td>0.3319</td>\n",
              "      <td>0.55</td>\n",
              "      <td>0:LIVING</td>\n",
              "      <td>Female</td>\n",
              "      <td>Not Hispanic Or Latino</td>\n",
              "      <td>White</td>\n",
              "      <td>BRCA_LumA</td>\n",
              "      <td>Infiltrating Lobular Carcinoma</td>\n",
              "      <td>Lost</td>\n",
              "      <td>Lost</td>\n",
              "      <td>Not Called</td>\n",
              "      <td>Lost</td>\n",
              "      <td>Not Called</td>\n",
              "    </tr>\n",
              "    <tr>\n",
              "      <th>1</th>\n",
              "      <td>TCGA-3C-AALI</td>\n",
              "      <td>TCGA-3C-AALI-01</td>\n",
              "      <td>Breast Invasive Ductal Carcinoma</td>\n",
              "      <td>458.0</td>\n",
              "      <td>0.7164</td>\n",
              "      <td>50</td>\n",
              "      <td>0.3449</td>\n",
              "      <td>0.74</td>\n",
              "      <td>0:LIVING</td>\n",
              "      <td>Female</td>\n",
              "      <td>Not Hispanic Or Latino</td>\n",
              "      <td>Black or African American</td>\n",
              "      <td>BRCA_Her2</td>\n",
              "      <td>Infiltrating Ductal Carcinoma</td>\n",
              "      <td>Lost</td>\n",
              "      <td>Lost</td>\n",
              "      <td>Not Called</td>\n",
              "      <td>NaN</td>\n",
              "      <td>Not Called</td>\n",
              "    </tr>\n",
              "    <tr>\n",
              "      <th>2</th>\n",
              "      <td>TCGA-3C-AALJ</td>\n",
              "      <td>TCGA-3C-AALJ-01</td>\n",
              "      <td>Breast Invasive Ductal Carcinoma</td>\n",
              "      <td>28.0</td>\n",
              "      <td>0.5340</td>\n",
              "      <td>62</td>\n",
              "      <td>0.3266</td>\n",
              "      <td>0.31</td>\n",
              "      <td>0:LIVING</td>\n",
              "      <td>Female</td>\n",
              "      <td>Not Hispanic Or Latino</td>\n",
              "      <td>Black or African American</td>\n",
              "      <td>BRCA_LumB</td>\n",
              "      <td>Infiltrating Ductal Carcinoma</td>\n",
              "      <td>Not Called</td>\n",
              "      <td>NaN</td>\n",
              "      <td>Not Called</td>\n",
              "      <td>NaN</td>\n",
              "      <td>Not Called</td>\n",
              "    </tr>\n",
              "    <tr>\n",
              "      <th>3</th>\n",
              "      <td>TCGA-3C-AALK</td>\n",
              "      <td>TCGA-3C-AALK-01</td>\n",
              "      <td>Breast Invasive Ductal Carcinoma</td>\n",
              "      <td>45.0</td>\n",
              "      <td>0.0764</td>\n",
              "      <td>52</td>\n",
              "      <td>0.3218</td>\n",
              "      <td>0.03</td>\n",
              "      <td>0:LIVING</td>\n",
              "      <td>Female</td>\n",
              "      <td>Not Hispanic Or Latino</td>\n",
              "      <td>Black or African American</td>\n",
              "      <td>BRCA_LumA</td>\n",
              "      <td>Infiltrating Ductal Carcinoma</td>\n",
              "      <td>Not Called</td>\n",
              "      <td>Not Called</td>\n",
              "      <td>Not Called</td>\n",
              "      <td>Not Called</td>\n",
              "      <td>Not Called</td>\n",
              "    </tr>\n",
              "    <tr>\n",
              "      <th>4</th>\n",
              "      <td>TCGA-4H-AAAK</td>\n",
              "      <td>TCGA-4H-AAAK-01</td>\n",
              "      <td>Breast Invasive Lobular Carcinoma</td>\n",
              "      <td>21.0</td>\n",
              "      <td>0.2364</td>\n",
              "      <td>50</td>\n",
              "      <td>0.3411</td>\n",
              "      <td>0.01</td>\n",
              "      <td>0:LIVING</td>\n",
              "      <td>Female</td>\n",
              "      <td>Not Hispanic Or Latino</td>\n",
              "      <td>White</td>\n",
              "      <td>BRCA_LumA</td>\n",
              "      <td>Infiltrating Lobular Carcinoma</td>\n",
              "      <td>Not Called</td>\n",
              "      <td>Not Called</td>\n",
              "      <td>Not Called</td>\n",
              "      <td>NaN</td>\n",
              "      <td>NaN</td>\n",
              "    </tr>\n",
              "  </tbody>\n",
              "</table>\n",
              "</div>"
            ],
            "text/plain": [
              "     Patient ID        Sample ID  ...  11q Status  12p Status\n",
              "0  TCGA-3C-AAAU  TCGA-3C-AAAU-01  ...        Lost  Not Called\n",
              "1  TCGA-3C-AALI  TCGA-3C-AALI-01  ...         NaN  Not Called\n",
              "2  TCGA-3C-AALJ  TCGA-3C-AALJ-01  ...         NaN  Not Called\n",
              "3  TCGA-3C-AALK  TCGA-3C-AALK-01  ...  Not Called  Not Called\n",
              "4  TCGA-4H-AAAK  TCGA-4H-AAAK-01  ...         NaN         NaN\n",
              "\n",
              "[5 rows x 19 columns]"
            ]
          },
          "metadata": {
            "tags": []
          },
          "execution_count": 6
        }
      ]
    },
    {
      "cell_type": "code",
      "metadata": {
        "colab": {
          "base_uri": "https://localhost:8080/"
        },
        "id": "5JA_ePNSUbP6",
        "outputId": "7a209a5e-92e5-4084-f822-aba0c88fe757"
      },
      "source": [
        "dados_pancan.shape"
      ],
      "execution_count": 7,
      "outputs": [
        {
          "output_type": "execute_result",
          "data": {
            "text/plain": [
              "(1084, 19)"
            ]
          },
          "metadata": {
            "tags": []
          },
          "execution_count": 7
        }
      ]
    },
    {
      "cell_type": "markdown",
      "metadata": {
        "id": "W76dDXAJ-SHa"
      },
      "source": [
        "### Explorar os dados clínicos"
      ]
    },
    {
      "cell_type": "code",
      "metadata": {
        "colab": {
          "base_uri": "https://localhost:8080/",
          "height": 265
        },
        "id": "dV9Wvn2G-lSS",
        "outputId": "935f8ce3-23ec-4619-c701-4094f34631f5"
      },
      "source": [
        "dados_brca['vital_status'].value_counts().plot.pie(autopct=\"%.1f%%\")"
      ],
      "execution_count": 11,
      "outputs": [
        {
          "output_type": "execute_result",
          "data": {
            "text/plain": [
              "<matplotlib.axes._subplots.AxesSubplot at 0x7fed25e3d210>"
            ]
          },
          "metadata": {
            "tags": []
          },
          "execution_count": 11
        },
        {
          "output_type": "display_data",
          "data": {
            "image/png": "[encoded data removed]",
            "text/plain": [
              "<Figure size 432x288 with 1 Axes>"
            ]
          },
          "metadata": {
            "tags": []
          }
        }
      ]
    },
    {
      "cell_type": "code",
      "metadata": {
        "colab": {
          "base_uri": "https://localhost:8080/",
          "height": 265
        },
        "id": "wCSyCp89_Xkj",
        "outputId": "e06d59d6-6be2-41dd-f50a-2f25c7bd483c"
      },
      "source": [
        "dados_brca['BRCA_Subtype_PAM50'].value_counts().plot.pie(autopct=\"%.1f%%\")"
      ],
      "execution_count": 12,
      "outputs": [
        {
          "output_type": "execute_result",
          "data": {
            "text/plain": [
              "<matplotlib.axes._subplots.AxesSubplot at 0x7fed2586e150>"
            ]
          },
          "metadata": {
            "tags": []
          },
          "execution_count": 12
        },
        {
          "output_type": "display_data",
          "data": {
            "image/png": "[encoded data removed]",
            "text/plain": [
              "<Figure size 432x288 with 1 Axes>"
            ]
          },
          "metadata": {
            "tags": []
          }
        }
      ]
    },
    {
      "cell_type": "code",
      "metadata": {
        "colab": {
          "base_uri": "https://localhost:8080/",
          "height": 265
        },
        "id": "XLWabQHTZ49s",
        "outputId": "14126306-bc21-488c-b0f5-4c9387b239b0"
      },
      "source": [
        "dados_pancan['cancer_tpe_detailed'].value_counts().plot.pie(autopct=\"%.1f%%\")"
      ],
      "execution_count": 8,
      "outputs": [
        {
          "output_type": "execute_result",
          "data": {
            "text/plain": [
              "<matplotlib.axes._subplots.AxesSubplot at 0x7f7801b59fd0>"
            ]
          },
          "metadata": {
            "tags": []
          },
          "execution_count": 8
        },
        {
          "output_type": "display_data",
          "data": {
            "image/png": "[encoded data removed]",
            "text/plain": [
              "<Figure size 432x288 with 1 Axes>"
            ]
          },
          "metadata": {
            "tags": []
          }
        }
      ]
    },
    {
      "cell_type": "code",
      "metadata": {
        "colab": {
          "base_uri": "https://localhost:8080/",
          "height": 265
        },
        "id": "ifvsMLT6AjfF",
        "outputId": "92609ce5-1184-4592-b5ce-2111cc067784"
      },
      "source": [
        "dados_pancan['Overall Survival Status'].value_counts().plot.pie(autopct=\"%.1f%%\")"
      ],
      "execution_count": 24,
      "outputs": [
        {
          "output_type": "execute_result",
          "data": {
            "text/plain": [
              "<matplotlib.axes._subplots.AxesSubplot at 0x7f77f2ef0ed0>"
            ]
          },
          "metadata": {
            "tags": []
          },
          "execution_count": 24
        },
        {
          "output_type": "display_data",
          "data": {
            "image/png": "[encoded data removed]",
            "text/plain": [
              "<Figure size 432x288 with 1 Axes>"
            ]
          },
          "metadata": {
            "tags": []
          }
        }
      ]
    },
    {
      "cell_type": "code",
      "metadata": {
        "colab": {
          "base_uri": "https://localhost:8080/",
          "height": 265
        },
        "id": "3KODWrJQBELP",
        "outputId": "fe270d63-d70b-4d81-b8d0-b7a2b7cbcc42"
      },
      "source": [
        "dados_pancan['Sex'].value_counts().plot.pie(autopct=\"%.1f%%\")"
      ],
      "execution_count": 26,
      "outputs": [
        {
          "output_type": "execute_result",
          "data": {
            "text/plain": [
              "<matplotlib.axes._subplots.AxesSubplot at 0x7f77f2ed0d90>"
            ]
          },
          "metadata": {
            "tags": []
          },
          "execution_count": 26
        },
        {
          "output_type": "display_data",
          "data": {
            "image/png": "[encoded data removed]",
            "text/plain": [
              "<Figure size 432x288 with 1 Axes>"
            ]
          },
          "metadata": {
            "tags": []
          }
        }
      ]
    },
    {
      "cell_type": "code",
      "metadata": {
        "colab": {
          "base_uri": "https://localhost:8080/",
          "height": 265
        },
        "id": "U6JHIgnoBfDF",
        "outputId": "df97adec-aecb-4cf2-e560-b72b622433d3"
      },
      "source": [
        "dados_pancan['Ethnicity'].value_counts().plot.pie(autopct=\"%.1f%%\")"
      ],
      "execution_count": 27,
      "outputs": [
        {
          "output_type": "execute_result",
          "data": {
            "text/plain": [
              "<matplotlib.axes._subplots.AxesSubplot at 0x7f77f2ed0690>"
            ]
          },
          "metadata": {
            "tags": []
          },
          "execution_count": 27
        },
        {
          "output_type": "display_data",
          "data": {
            "image/png": "[encoded data removed]",
            "text/plain": [
              "<Figure size 432x288 with 1 Axes>"
            ]
          },
          "metadata": {
            "tags": []
          }
        }
      ]
    },
    {
      "cell_type": "code",
      "metadata": {
        "colab": {
          "base_uri": "https://localhost:8080/",
          "height": 265
        },
        "id": "ElhMIULyBfMf",
        "outputId": "4ed1585e-bee5-461d-b046-eb53c29f170d"
      },
      "source": [
        "dados_pancan['Race'].value_counts().plot.pie(autopct=\"%.1f%%\")"
      ],
      "execution_count": 28,
      "outputs": [
        {
          "output_type": "execute_result",
          "data": {
            "text/plain": [
              "<matplotlib.axes._subplots.AxesSubplot at 0x7f77f2e5d8d0>"
            ]
          },
          "metadata": {
            "tags": []
          },
          "execution_count": 28
        },
        {
          "output_type": "display_data",
          "data": {
            "image/png": "[encoded data removed]",
            "text/plain": [
              "<Figure size 432x288 with 1 Axes>"
            ]
          },
          "metadata": {
            "tags": []
          }
        }
      ]
    },
    {
      "cell_type": "code",
      "metadata": {
        "colab": {
          "base_uri": "https://localhost:8080/",
          "height": 265
        },
        "id": "RIrTQG9RBtuP",
        "outputId": "30f9bc63-3e20-4408-b3f1-a32a749db8e2"
      },
      "source": [
        "dados_pancan['10p Status'].value_counts().plot.pie(autopct=\"%.1f%%\")"
      ],
      "execution_count": 39,
      "outputs": [
        {
          "output_type": "execute_result",
          "data": {
            "text/plain": [
              "<matplotlib.axes._subplots.AxesSubplot at 0x7f77f2c6fdd0>"
            ]
          },
          "metadata": {
            "tags": []
          },
          "execution_count": 39
        },
        {
          "output_type": "display_data",
          "data": {
            "image/png": "[encoded data removed]",
            "text/plain": [
              "<Figure size 432x288 with 1 Axes>"
            ]
          },
          "metadata": {
            "tags": []
          }
        }
      ]
    },
    {
      "cell_type": "code",
      "metadata": {
        "colab": {
          "base_uri": "https://localhost:8080/",
          "height": 265
        },
        "id": "UlAS0b92BuAh",
        "outputId": "86aa266c-6b20-489c-8dae-c1b01bef1fc2"
      },
      "source": [
        "dados_pancan['10q Status'].value_counts().plot.pie(autopct=\"%.1f%%\")"
      ],
      "execution_count": 40,
      "outputs": [
        {
          "output_type": "execute_result",
          "data": {
            "text/plain": [
              "<matplotlib.axes._subplots.AxesSubplot at 0x7f77f2ce2150>"
            ]
          },
          "metadata": {
            "tags": []
          },
          "execution_count": 40
        },
        {
          "output_type": "display_data",
          "data": {
            "image/png": "[encoded data removed]",
            "text/plain": [
              "<Figure size 432x288 with 1 Axes>"
            ]
          },
          "metadata": {
            "tags": []
          }
        }
      ]
    },
    {
      "cell_type": "code",
      "metadata": {
        "colab": {
          "base_uri": "https://localhost:8080/",
          "height": 265
        },
        "id": "nRxQ-0ELBuKj",
        "outputId": "aba9b454-33e1-4121-9231-fec199a3ff72"
      },
      "source": [
        "dados_pancan['11p Status'].value_counts().plot.pie(autopct=\"%.1f%%\")"
      ],
      "execution_count": 41,
      "outputs": [
        {
          "output_type": "execute_result",
          "data": {
            "text/plain": [
              "<matplotlib.axes._subplots.AxesSubplot at 0x7f77f2d449d0>"
            ]
          },
          "metadata": {
            "tags": []
          },
          "execution_count": 41
        },
        {
          "output_type": "display_data",
          "data": {
            "image/png": "[encoded data removed]",
            "text/plain": [
              "<Figure size 432x288 with 1 Axes>"
            ]
          },
          "metadata": {
            "tags": []
          }
        }
      ]
    },
    {
      "cell_type": "code",
      "metadata": {
        "id": "Y1w7r0luaNDc"
      },
      "source": [
        "cod_afetada= dados_brca['BRCA_Subtype_PAM50'].value_counts().index[0:10]"
      ],
      "execution_count": 42,
      "outputs": []
    },
    {
      "cell_type": "code",
      "metadata": {
        "colab": {
          "base_uri": "https://localhost:8080/"
        },
        "id": "5E0STd2faVAt",
        "outputId": "9a505a8a-85b6-4c2f-8f3f-0141629ae199"
      },
      "source": [
        "cod_afetada"
      ],
      "execution_count": 43,
      "outputs": [
        {
          "output_type": "execute_result",
          "data": {
            "text/plain": [
              "Index(['LumA', 'LumB', 'Basal', 'Her2', 'Normal'], dtype='object')"
            ]
          },
          "metadata": {
            "tags": []
          },
          "execution_count": 43
        }
      ]
    },
    {
      "cell_type": "code",
      "metadata": {
        "colab": {
          "base_uri": "https://localhost:8080/",
          "height": 773
        },
        "id": "LPnDpy-naas-",
        "outputId": "036d24bf-3120-4712-e745-b089d0225b1d"
      },
      "source": [
        "dados_brca.query('BRCA_Subtype_PAM50 in @cod_afetada')"
      ],
      "execution_count": 45,
      "outputs": [
        {
          "output_type": "execute_result",
          "data": {
            "text/html": [
              "<div>\n",
              "<style scoped>\n",
              "    .dataframe tbody tr th:only-of-type {\n",
              "        vertical-align: middle;\n",
              "    }\n",
              "\n",
              "    .dataframe tbody tr th {\n",
              "        vertical-align: top;\n",
              "    }\n",
              "\n",
              "    .dataframe thead th {\n",
              "        text-align: right;\n",
              "    }\n",
              "</style>\n",
              "<table border=\"1\" class=\"dataframe\">\n",
              "  <thead>\n",
              "    <tr style=\"text-align: right;\">\n",
              "      <th></th>\n",
              "      <th>Unnamed: 0</th>\n",
              "      <th>patient</th>\n",
              "      <th>Tumor.Type</th>\n",
              "      <th>Included_in_previous_marker_papers</th>\n",
              "      <th>vital_status</th>\n",
              "      <th>days_to_birth</th>\n",
              "      <th>days_to_death</th>\n",
              "      <th>days_to_last_followup</th>\n",
              "      <th>age_at_initial_pathologic_diagnosis</th>\n",
              "      <th>pathologic_stage</th>\n",
              "      <th>Tumor_Grade</th>\n",
              "      <th>BRCA_Pathology</th>\n",
              "      <th>BRCA_Subtype_PAM50</th>\n",
              "      <th>MSI_status</th>\n",
              "      <th>HPV_Status</th>\n",
              "      <th>tobacco_smoking_history</th>\n",
              "      <th>CNV Clusters</th>\n",
              "      <th>Mutation Clusters</th>\n",
              "      <th>DNA.Methylation Clusters</th>\n",
              "      <th>mRNA Clusters</th>\n",
              "      <th>miRNA Clusters</th>\n",
              "      <th>lncRNA Clusters</th>\n",
              "      <th>Protein Clusters</th>\n",
              "      <th>PARADIGM Clusters</th>\n",
              "      <th>Pan-Gyn Clusters</th>\n",
              "    </tr>\n",
              "  </thead>\n",
              "  <tbody>\n",
              "    <tr>\n",
              "      <th>0</th>\n",
              "      <td>1</td>\n",
              "      <td>TCGA-3C-AAAU</td>\n",
              "      <td>BRCA</td>\n",
              "      <td>NO</td>\n",
              "      <td>Alive</td>\n",
              "      <td>-20211.0</td>\n",
              "      <td>NaN</td>\n",
              "      <td>4047.0</td>\n",
              "      <td>55</td>\n",
              "      <td>NaN</td>\n",
              "      <td>NaN</td>\n",
              "      <td>NaN</td>\n",
              "      <td>LumA</td>\n",
              "      <td>NaN</td>\n",
              "      <td>NaN</td>\n",
              "      <td>NaN</td>\n",
              "      <td>C6</td>\n",
              "      <td>C7</td>\n",
              "      <td>C1</td>\n",
              "      <td>C1</td>\n",
              "      <td>C3</td>\n",
              "      <td>NaN</td>\n",
              "      <td>NaN</td>\n",
              "      <td>C5</td>\n",
              "      <td>NaN</td>\n",
              "    </tr>\n",
              "    <tr>\n",
              "      <th>1</th>\n",
              "      <td>2</td>\n",
              "      <td>TCGA-3C-AALI</td>\n",
              "      <td>BRCA</td>\n",
              "      <td>NO</td>\n",
              "      <td>Alive</td>\n",
              "      <td>-18538.0</td>\n",
              "      <td>NaN</td>\n",
              "      <td>4005.0</td>\n",
              "      <td>50</td>\n",
              "      <td>Stage_II</td>\n",
              "      <td>NaN</td>\n",
              "      <td>NaN</td>\n",
              "      <td>Her2</td>\n",
              "      <td>NaN</td>\n",
              "      <td>NaN</td>\n",
              "      <td>NaN</td>\n",
              "      <td>C6</td>\n",
              "      <td>C9</td>\n",
              "      <td>C2</td>\n",
              "      <td>C2</td>\n",
              "      <td>C3</td>\n",
              "      <td>NaN</td>\n",
              "      <td>C2</td>\n",
              "      <td>C4</td>\n",
              "      <td>C4</td>\n",
              "    </tr>\n",
              "    <tr>\n",
              "      <th>2</th>\n",
              "      <td>3</td>\n",
              "      <td>TCGA-3C-AALJ</td>\n",
              "      <td>BRCA</td>\n",
              "      <td>NO</td>\n",
              "      <td>Alive</td>\n",
              "      <td>-22848.0</td>\n",
              "      <td>NaN</td>\n",
              "      <td>1474.0</td>\n",
              "      <td>62</td>\n",
              "      <td>Stage_II</td>\n",
              "      <td>NaN</td>\n",
              "      <td>NaN</td>\n",
              "      <td>LumB</td>\n",
              "      <td>NaN</td>\n",
              "      <td>NaN</td>\n",
              "      <td>NaN</td>\n",
              "      <td>C6</td>\n",
              "      <td>C4</td>\n",
              "      <td>C2</td>\n",
              "      <td>C2</td>\n",
              "      <td>C2</td>\n",
              "      <td>NaN</td>\n",
              "      <td>NaN</td>\n",
              "      <td>C4</td>\n",
              "      <td>NaN</td>\n",
              "    </tr>\n",
              "    <tr>\n",
              "      <th>3</th>\n",
              "      <td>4</td>\n",
              "      <td>TCGA-3C-AALK</td>\n",
              "      <td>BRCA</td>\n",
              "      <td>NO</td>\n",
              "      <td>Alive</td>\n",
              "      <td>-19074.0</td>\n",
              "      <td>NaN</td>\n",
              "      <td>1448.0</td>\n",
              "      <td>52</td>\n",
              "      <td>Stage_I</td>\n",
              "      <td>NaN</td>\n",
              "      <td>NaN</td>\n",
              "      <td>LumA</td>\n",
              "      <td>NaN</td>\n",
              "      <td>NaN</td>\n",
              "      <td>NaN</td>\n",
              "      <td>C1</td>\n",
              "      <td>C5</td>\n",
              "      <td>C2</td>\n",
              "      <td>C2</td>\n",
              "      <td>C2</td>\n",
              "      <td>NaN</td>\n",
              "      <td>C2</td>\n",
              "      <td>C6</td>\n",
              "      <td>C4</td>\n",
              "    </tr>\n",
              "    <tr>\n",
              "      <th>4</th>\n",
              "      <td>5</td>\n",
              "      <td>TCGA-4H-AAAK</td>\n",
              "      <td>BRCA</td>\n",
              "      <td>NO</td>\n",
              "      <td>Alive</td>\n",
              "      <td>-18371.0</td>\n",
              "      <td>NaN</td>\n",
              "      <td>348.0</td>\n",
              "      <td>50</td>\n",
              "      <td>Stage_III</td>\n",
              "      <td>NaN</td>\n",
              "      <td>NaN</td>\n",
              "      <td>LumA</td>\n",
              "      <td>NaN</td>\n",
              "      <td>NaN</td>\n",
              "      <td>NaN</td>\n",
              "      <td>C6</td>\n",
              "      <td>C4</td>\n",
              "      <td>C1</td>\n",
              "      <td>C2</td>\n",
              "      <td>C2</td>\n",
              "      <td>NaN</td>\n",
              "      <td>C2</td>\n",
              "      <td>C6</td>\n",
              "      <td>C1</td>\n",
              "    </tr>\n",
              "    <tr>\n",
              "      <th>...</th>\n",
              "      <td>...</td>\n",
              "      <td>...</td>\n",
              "      <td>...</td>\n",
              "      <td>...</td>\n",
              "      <td>...</td>\n",
              "      <td>...</td>\n",
              "      <td>...</td>\n",
              "      <td>...</td>\n",
              "      <td>...</td>\n",
              "      <td>...</td>\n",
              "      <td>...</td>\n",
              "      <td>...</td>\n",
              "      <td>...</td>\n",
              "      <td>...</td>\n",
              "      <td>...</td>\n",
              "      <td>...</td>\n",
              "      <td>...</td>\n",
              "      <td>...</td>\n",
              "      <td>...</td>\n",
              "      <td>...</td>\n",
              "      <td>...</td>\n",
              "      <td>...</td>\n",
              "      <td>...</td>\n",
              "      <td>...</td>\n",
              "      <td>...</td>\n",
              "    </tr>\n",
              "    <tr>\n",
              "      <th>1082</th>\n",
              "      <td>1083</td>\n",
              "      <td>TCGA-WT-AB44</td>\n",
              "      <td>BRCA</td>\n",
              "      <td>NO</td>\n",
              "      <td>Alive</td>\n",
              "      <td>NaN</td>\n",
              "      <td>NaN</td>\n",
              "      <td>883.0</td>\n",
              "      <td>77</td>\n",
              "      <td>Stage_I</td>\n",
              "      <td>NaN</td>\n",
              "      <td>NaN</td>\n",
              "      <td>LumA</td>\n",
              "      <td>NaN</td>\n",
              "      <td>NaN</td>\n",
              "      <td>NaN</td>\n",
              "      <td>C1</td>\n",
              "      <td>C7</td>\n",
              "      <td>C1</td>\n",
              "      <td>C2</td>\n",
              "      <td>C2</td>\n",
              "      <td>NaN</td>\n",
              "      <td>NaN</td>\n",
              "      <td>C8</td>\n",
              "      <td>NaN</td>\n",
              "    </tr>\n",
              "    <tr>\n",
              "      <th>1083</th>\n",
              "      <td>1084</td>\n",
              "      <td>TCGA-XX-A899</td>\n",
              "      <td>BRCA</td>\n",
              "      <td>NO</td>\n",
              "      <td>Alive</td>\n",
              "      <td>-17022.0</td>\n",
              "      <td>NaN</td>\n",
              "      <td>467.0</td>\n",
              "      <td>46</td>\n",
              "      <td>Stage_III</td>\n",
              "      <td>NaN</td>\n",
              "      <td>NaN</td>\n",
              "      <td>LumA</td>\n",
              "      <td>NaN</td>\n",
              "      <td>NaN</td>\n",
              "      <td>NaN</td>\n",
              "      <td>C6</td>\n",
              "      <td>C2</td>\n",
              "      <td>C1</td>\n",
              "      <td>C2</td>\n",
              "      <td>C2</td>\n",
              "      <td>NaN</td>\n",
              "      <td>C2</td>\n",
              "      <td>C6</td>\n",
              "      <td>C3</td>\n",
              "    </tr>\n",
              "    <tr>\n",
              "      <th>1084</th>\n",
              "      <td>1085</td>\n",
              "      <td>TCGA-XX-A89A</td>\n",
              "      <td>BRCA</td>\n",
              "      <td>NO</td>\n",
              "      <td>Alive</td>\n",
              "      <td>-25000.0</td>\n",
              "      <td>NaN</td>\n",
              "      <td>488.0</td>\n",
              "      <td>68</td>\n",
              "      <td>Stage_II</td>\n",
              "      <td>NaN</td>\n",
              "      <td>NaN</td>\n",
              "      <td>LumA</td>\n",
              "      <td>NaN</td>\n",
              "      <td>NaN</td>\n",
              "      <td>NaN</td>\n",
              "      <td>C3</td>\n",
              "      <td>C9</td>\n",
              "      <td>C1</td>\n",
              "      <td>C2</td>\n",
              "      <td>C2</td>\n",
              "      <td>NaN</td>\n",
              "      <td>NaN</td>\n",
              "      <td>C6</td>\n",
              "      <td>NaN</td>\n",
              "    </tr>\n",
              "    <tr>\n",
              "      <th>1085</th>\n",
              "      <td>1086</td>\n",
              "      <td>TCGA-Z7-A8R5</td>\n",
              "      <td>BRCA</td>\n",
              "      <td>NO</td>\n",
              "      <td>Alive</td>\n",
              "      <td>-22280.0</td>\n",
              "      <td>NaN</td>\n",
              "      <td>3287.0</td>\n",
              "      <td>61</td>\n",
              "      <td>Stage_III</td>\n",
              "      <td>NaN</td>\n",
              "      <td>NaN</td>\n",
              "      <td>LumA</td>\n",
              "      <td>NaN</td>\n",
              "      <td>NaN</td>\n",
              "      <td>NaN</td>\n",
              "      <td>C6</td>\n",
              "      <td>C8</td>\n",
              "      <td>C1</td>\n",
              "      <td>C2</td>\n",
              "      <td>C2</td>\n",
              "      <td>NaN</td>\n",
              "      <td>C2</td>\n",
              "      <td>C8</td>\n",
              "      <td>C1</td>\n",
              "    </tr>\n",
              "    <tr>\n",
              "      <th>1086</th>\n",
              "      <td>1087</td>\n",
              "      <td>TCGA-Z7-A8R6</td>\n",
              "      <td>BRCA</td>\n",
              "      <td>NO</td>\n",
              "      <td>Alive</td>\n",
              "      <td>-16955.0</td>\n",
              "      <td>NaN</td>\n",
              "      <td>3256.0</td>\n",
              "      <td>46</td>\n",
              "      <td>Stage_I</td>\n",
              "      <td>NaN</td>\n",
              "      <td>NaN</td>\n",
              "      <td>LumB</td>\n",
              "      <td>NaN</td>\n",
              "      <td>NaN</td>\n",
              "      <td>NaN</td>\n",
              "      <td>C6</td>\n",
              "      <td>C4</td>\n",
              "      <td>C1</td>\n",
              "      <td>C2</td>\n",
              "      <td>C2</td>\n",
              "      <td>NaN</td>\n",
              "      <td>C2</td>\n",
              "      <td>C5</td>\n",
              "      <td>C5</td>\n",
              "    </tr>\n",
              "  </tbody>\n",
              "</table>\n",
              "<p>1085 rows × 25 columns</p>\n",
              "</div>"
            ],
            "text/plain": [
              "      Unnamed: 0       patient  ... PARADIGM Clusters Pan-Gyn Clusters\n",
              "0              1  TCGA-3C-AAAU  ...                C5              NaN\n",
              "1              2  TCGA-3C-AALI  ...                C4               C4\n",
              "2              3  TCGA-3C-AALJ  ...                C4              NaN\n",
              "3              4  TCGA-3C-AALK  ...                C6               C4\n",
              "4              5  TCGA-4H-AAAK  ...                C6               C1\n",
              "...          ...           ...  ...               ...              ...\n",
              "1082        1083  TCGA-WT-AB44  ...                C8              NaN\n",
              "1083        1084  TCGA-XX-A899  ...                C6               C3\n",
              "1084        1085  TCGA-XX-A89A  ...                C6              NaN\n",
              "1085        1086  TCGA-Z7-A8R5  ...                C8               C1\n",
              "1086        1087  TCGA-Z7-A8R6  ...                C5               C5\n",
              "\n",
              "[1085 rows x 25 columns]"
            ]
          },
          "metadata": {
            "tags": []
          },
          "execution_count": 45
        }
      ]
    },
    {
      "cell_type": "code",
      "metadata": {
        "colab": {
          "base_uri": "https://localhost:8080/",
          "height": 528
        },
        "id": "zvAnBdGl_r9u",
        "outputId": "d58b336d-1486-40a5-bc5e-9d395d5d7a2f"
      },
      "source": [
        "import seaborn as sns\n",
        "import matplotlib.pyplot as plt\n",
        "sns.set()\n",
        "plt.figure(figsize=(35, 12))\n",
        "ax = sns.countplot(x = 'BRCA_Subtype_PAM50', data=dados_brca.query('BRCA_Subtype_PAM50 in @cod_afetada'), order= dados_brca['BRCA_Subtype_PAM50'].value_counts().index[0:10], palette='husl')\n",
        "ax.set_title('BRCA molecular subtype')\n",
        "plt.title(\"BRCA molecular subtype\", fontsize = 20)\n",
        "plt.xlabel(\"type\", fontsize = 18)\n",
        "plt.ylabel(\"samples\", fontsize = 18)\n",
        "plt.show()"
      ],
      "execution_count": 47,
      "outputs": [
        {
          "output_type": "display_data",
          "data": {
            "image/png": "[encoded data removed]",
            "text/plain": [
              "<Figure size 2520x864 with 1 Axes>"
            ]
          },
          "metadata": {
            "tags": []
          }
        }
      ]
    },
    {
      "cell_type": "code",
      "metadata": {
        "colab": {
          "base_uri": "https://localhost:8080/",
          "height": 555
        },
        "id": "vjX9TLG6CHle",
        "outputId": "3e5a9649-85ae-4a2d-fb78-f1fc7426c38a"
      },
      "source": [
        "cod_pancan = dados_pancan['BRCA_Subtype_PAM50'].value_counts().index[0:10]"
      ],
      "execution_count": 34,
      "outputs": [
        {
          "output_type": "error",
          "ename": "KeyError",
          "evalue": "ignored",
          "traceback": [
            "\u001b[0;31m---------------------------------------------------------------------------\u001b[0m",
            "\u001b[0;31mKeyError\u001b[0m                                  Traceback (most recent call last)",
            "\u001b[0;32m/usr/local/lib/python3.7/dist-packages/pandas/core/indexes/base.py\u001b[0m in \u001b[0;36mget_loc\u001b[0;34m(self, key, method, tolerance)\u001b[0m\n\u001b[1;32m   2897\u001b[0m             \u001b[0;32mtry\u001b[0m\u001b[0;34m:\u001b[0m\u001b[0;34m\u001b[0m\u001b[0;34m\u001b[0m\u001b[0m\n\u001b[0;32m-> 2898\u001b[0;31m                 \u001b[0;32mreturn\u001b[0m \u001b[0mself\u001b[0m\u001b[0;34m.\u001b[0m\u001b[0m_engine\u001b[0m\u001b[0;34m.\u001b[0m\u001b[0mget_loc\u001b[0m\u001b[0;34m(\u001b[0m\u001b[0mcasted_key\u001b[0m\u001b[0;34m)\u001b[0m\u001b[0;34m\u001b[0m\u001b[0;34m\u001b[0m\u001b[0m\n\u001b[0m\u001b[1;32m   2899\u001b[0m             \u001b[0;32mexcept\u001b[0m \u001b[0mKeyError\u001b[0m \u001b[0;32mas\u001b[0m \u001b[0merr\u001b[0m\u001b[0;34m:\u001b[0m\u001b[0;34m\u001b[0m\u001b[0;34m\u001b[0m\u001b[0m\n",
            "\u001b[0;32mpandas/_libs/index.pyx\u001b[0m in \u001b[0;36mpandas._libs.index.IndexEngine.get_loc\u001b[0;34m()\u001b[0m\n",
            "\u001b[0;32mpandas/_libs/index.pyx\u001b[0m in \u001b[0;36mpandas._libs.index.IndexEngine.get_loc\u001b[0;34m()\u001b[0m\n",
            "\u001b[0;32mpandas/_libs/hashtable_class_helper.pxi\u001b[0m in \u001b[0;36mpandas._libs.hashtable.PyObjectHashTable.get_item\u001b[0;34m()\u001b[0m\n",
            "\u001b[0;32mpandas/_libs/hashtable_class_helper.pxi\u001b[0m in \u001b[0;36mpandas._libs.hashtable.PyObjectHashTable.get_item\u001b[0;34m()\u001b[0m\n",
            "\u001b[0;31mKeyError\u001b[0m: 'BRCA_Subtype_PAM50'",
            "\nThe above exception was the direct cause of the following exception:\n",
            "\u001b[0;31mKeyError\u001b[0m                                  Traceback (most recent call last)",
            "\u001b[0;32m<ipython-input-34-6e18af2b424c>\u001b[0m in \u001b[0;36m<module>\u001b[0;34m()\u001b[0m\n\u001b[0;32m----> 1\u001b[0;31m \u001b[0mcod_pancan\u001b[0m \u001b[0;34m=\u001b[0m \u001b[0mdados_pancan\u001b[0m\u001b[0;34m[\u001b[0m\u001b[0;34m'BRCA_Subtype_PAM50'\u001b[0m\u001b[0;34m]\u001b[0m\u001b[0;34m.\u001b[0m\u001b[0mvalue_counts\u001b[0m\u001b[0;34m(\u001b[0m\u001b[0;34m)\u001b[0m\u001b[0;34m.\u001b[0m\u001b[0mindex\u001b[0m\u001b[0;34m[\u001b[0m\u001b[0;36m0\u001b[0m\u001b[0;34m:\u001b[0m\u001b[0;36m10\u001b[0m\u001b[0;34m]\u001b[0m\u001b[0;34m\u001b[0m\u001b[0;34m\u001b[0m\u001b[0m\n\u001b[0m",
            "\u001b[0;32m/usr/local/lib/python3.7/dist-packages/pandas/core/frame.py\u001b[0m in \u001b[0;36m__getitem__\u001b[0;34m(self, key)\u001b[0m\n\u001b[1;32m   2904\u001b[0m             \u001b[0;32mif\u001b[0m \u001b[0mself\u001b[0m\u001b[0;34m.\u001b[0m\u001b[0mcolumns\u001b[0m\u001b[0;34m.\u001b[0m\u001b[0mnlevels\u001b[0m \u001b[0;34m>\u001b[0m \u001b[0;36m1\u001b[0m\u001b[0;34m:\u001b[0m\u001b[0;34m\u001b[0m\u001b[0;34m\u001b[0m\u001b[0m\n\u001b[1;32m   2905\u001b[0m                 \u001b[0;32mreturn\u001b[0m \u001b[0mself\u001b[0m\u001b[0;34m.\u001b[0m\u001b[0m_getitem_multilevel\u001b[0m\u001b[0;34m(\u001b[0m\u001b[0mkey\u001b[0m\u001b[0;34m)\u001b[0m\u001b[0;34m\u001b[0m\u001b[0;34m\u001b[0m\u001b[0m\n\u001b[0;32m-> 2906\u001b[0;31m             \u001b[0mindexer\u001b[0m \u001b[0;34m=\u001b[0m \u001b[0mself\u001b[0m\u001b[0;34m.\u001b[0m\u001b[0mcolumns\u001b[0m\u001b[0;34m.\u001b[0m\u001b[0mget_loc\u001b[0m\u001b[0;34m(\u001b[0m\u001b[0mkey\u001b[0m\u001b[0;34m)\u001b[0m\u001b[0;34m\u001b[0m\u001b[0;34m\u001b[0m\u001b[0m\n\u001b[0m\u001b[1;32m   2907\u001b[0m             \u001b[0;32mif\u001b[0m \u001b[0mis_integer\u001b[0m\u001b[0;34m(\u001b[0m\u001b[0mindexer\u001b[0m\u001b[0;34m)\u001b[0m\u001b[0;34m:\u001b[0m\u001b[0;34m\u001b[0m\u001b[0;34m\u001b[0m\u001b[0m\n\u001b[1;32m   2908\u001b[0m                 \u001b[0mindexer\u001b[0m \u001b[0;34m=\u001b[0m \u001b[0;34m[\u001b[0m\u001b[0mindexer\u001b[0m\u001b[0;34m]\u001b[0m\u001b[0;34m\u001b[0m\u001b[0;34m\u001b[0m\u001b[0m\n",
            "\u001b[0;32m/usr/local/lib/python3.7/dist-packages/pandas/core/indexes/base.py\u001b[0m in \u001b[0;36mget_loc\u001b[0;34m(self, key, method, tolerance)\u001b[0m\n\u001b[1;32m   2898\u001b[0m                 \u001b[0;32mreturn\u001b[0m \u001b[0mself\u001b[0m\u001b[0;34m.\u001b[0m\u001b[0m_engine\u001b[0m\u001b[0;34m.\u001b[0m\u001b[0mget_loc\u001b[0m\u001b[0;34m(\u001b[0m\u001b[0mcasted_key\u001b[0m\u001b[0;34m)\u001b[0m\u001b[0;34m\u001b[0m\u001b[0;34m\u001b[0m\u001b[0m\n\u001b[1;32m   2899\u001b[0m             \u001b[0;32mexcept\u001b[0m \u001b[0mKeyError\u001b[0m \u001b[0;32mas\u001b[0m \u001b[0merr\u001b[0m\u001b[0;34m:\u001b[0m\u001b[0;34m\u001b[0m\u001b[0;34m\u001b[0m\u001b[0m\n\u001b[0;32m-> 2900\u001b[0;31m                 \u001b[0;32mraise\u001b[0m \u001b[0mKeyError\u001b[0m\u001b[0;34m(\u001b[0m\u001b[0mkey\u001b[0m\u001b[0;34m)\u001b[0m \u001b[0;32mfrom\u001b[0m \u001b[0merr\u001b[0m\u001b[0;34m\u001b[0m\u001b[0;34m\u001b[0m\u001b[0m\n\u001b[0m\u001b[1;32m   2901\u001b[0m \u001b[0;34m\u001b[0m\u001b[0m\n\u001b[1;32m   2902\u001b[0m         \u001b[0;32mif\u001b[0m \u001b[0mtolerance\u001b[0m \u001b[0;32mis\u001b[0m \u001b[0;32mnot\u001b[0m \u001b[0;32mNone\u001b[0m\u001b[0;34m:\u001b[0m\u001b[0;34m\u001b[0m\u001b[0;34m\u001b[0m\u001b[0m\n",
            "\u001b[0;31mKeyError\u001b[0m: 'BRCA_Subtype_PAM50'"
          ]
        }
      ]
    },
    {
      "cell_type": "code",
      "metadata": {
        "colab": {
          "base_uri": "https://localhost:8080/"
        },
        "id": "l73ENFUBCPuq",
        "outputId": "b532f316-bb44-4321-86bb-137935d39fe2"
      },
      "source": [
        "cod_pancan"
      ],
      "execution_count": 31,
      "outputs": [
        {
          "output_type": "execute_result",
          "data": {
            "text/plain": [
              "Index(['Infiltrating Ductal Carcinoma', 'Infiltrating Lobular Carcinoma',\n",
              "       'Other', 'Mixed Histology (NOS)', 'Mucinous Carcinoma',\n",
              "       'Metaplastic Carcinoma', 'Medullary Carcinoma',\n",
              "       'Breast Invasive Carcinoma', 'Infiltrating Carcinoma (NOS)'],\n",
              "      dtype='object')"
            ]
          },
          "metadata": {
            "tags": []
          },
          "execution_count": 31
        }
      ]
    },
    {
      "cell_type": "code",
      "metadata": {
        "colab": {
          "base_uri": "https://localhost:8080/",
          "height": 974
        },
        "id": "0jEAP46uCWPc",
        "outputId": "bcf7abe0-7a88-4ea9-e48c-35a4c543e05d"
      },
      "source": [
        "dados_pancan.query('Tumor_Type in @cod_pancan')"
      ],
      "execution_count": 32,
      "outputs": [
        {
          "output_type": "execute_result",
          "data": {
            "text/html": [
              "<div>\n",
              "<style scoped>\n",
              "    .dataframe tbody tr th:only-of-type {\n",
              "        vertical-align: middle;\n",
              "    }\n",
              "\n",
              "    .dataframe tbody tr th {\n",
              "        vertical-align: top;\n",
              "    }\n",
              "\n",
              "    .dataframe thead th {\n",
              "        text-align: right;\n",
              "    }\n",
              "</style>\n",
              "<table border=\"1\" class=\"dataframe\">\n",
              "  <thead>\n",
              "    <tr style=\"text-align: right;\">\n",
              "      <th></th>\n",
              "      <th>Patient ID</th>\n",
              "      <th>Sample ID</th>\n",
              "      <th>cancer_tpe_detailed</th>\n",
              "      <th>Mutation Count</th>\n",
              "      <th>Fraction Genome Altered</th>\n",
              "      <th>Diagnosis Age</th>\n",
              "      <th>MSI MANTIS Score</th>\n",
              "      <th>MSIsensor Score</th>\n",
              "      <th>Overall Survival Status</th>\n",
              "      <th>Sex</th>\n",
              "      <th>Ethnicity</th>\n",
              "      <th>Race</th>\n",
              "      <th>Subtype</th>\n",
              "      <th>Tumor_Type</th>\n",
              "      <th>10p Status</th>\n",
              "      <th>10q Status</th>\n",
              "      <th>11p Status</th>\n",
              "      <th>11q Status</th>\n",
              "      <th>12p Status</th>\n",
              "    </tr>\n",
              "  </thead>\n",
              "  <tbody>\n",
              "    <tr>\n",
              "      <th>0</th>\n",
              "      <td>TCGA-3C-AAAU</td>\n",
              "      <td>TCGA-3C-AAAU-01</td>\n",
              "      <td>Breast Invasive Lobular Carcinoma</td>\n",
              "      <td>24.0</td>\n",
              "      <td>0.7787</td>\n",
              "      <td>55</td>\n",
              "      <td>0.3319</td>\n",
              "      <td>0.55</td>\n",
              "      <td>0:LIVING</td>\n",
              "      <td>Female</td>\n",
              "      <td>Not Hispanic Or Latino</td>\n",
              "      <td>White</td>\n",
              "      <td>BRCA_LumA</td>\n",
              "      <td>Infiltrating Lobular Carcinoma</td>\n",
              "      <td>Lost</td>\n",
              "      <td>Lost</td>\n",
              "      <td>Not Called</td>\n",
              "      <td>Lost</td>\n",
              "      <td>Not Called</td>\n",
              "    </tr>\n",
              "    <tr>\n",
              "      <th>1</th>\n",
              "      <td>TCGA-3C-AALI</td>\n",
              "      <td>TCGA-3C-AALI-01</td>\n",
              "      <td>Breast Invasive Ductal Carcinoma</td>\n",
              "      <td>458.0</td>\n",
              "      <td>0.7164</td>\n",
              "      <td>50</td>\n",
              "      <td>0.3449</td>\n",
              "      <td>0.74</td>\n",
              "      <td>0:LIVING</td>\n",
              "      <td>Female</td>\n",
              "      <td>Not Hispanic Or Latino</td>\n",
              "      <td>Black or African American</td>\n",
              "      <td>BRCA_Her2</td>\n",
              "      <td>Infiltrating Ductal Carcinoma</td>\n",
              "      <td>Lost</td>\n",
              "      <td>Lost</td>\n",
              "      <td>Not Called</td>\n",
              "      <td>NaN</td>\n",
              "      <td>Not Called</td>\n",
              "    </tr>\n",
              "    <tr>\n",
              "      <th>2</th>\n",
              "      <td>TCGA-3C-AALJ</td>\n",
              "      <td>TCGA-3C-AALJ-01</td>\n",
              "      <td>Breast Invasive Ductal Carcinoma</td>\n",
              "      <td>28.0</td>\n",
              "      <td>0.5340</td>\n",
              "      <td>62</td>\n",
              "      <td>0.3266</td>\n",
              "      <td>0.31</td>\n",
              "      <td>0:LIVING</td>\n",
              "      <td>Female</td>\n",
              "      <td>Not Hispanic Or Latino</td>\n",
              "      <td>Black or African American</td>\n",
              "      <td>BRCA_LumB</td>\n",
              "      <td>Infiltrating Ductal Carcinoma</td>\n",
              "      <td>Not Called</td>\n",
              "      <td>NaN</td>\n",
              "      <td>Not Called</td>\n",
              "      <td>NaN</td>\n",
              "      <td>Not Called</td>\n",
              "    </tr>\n",
              "    <tr>\n",
              "      <th>3</th>\n",
              "      <td>TCGA-3C-AALK</td>\n",
              "      <td>TCGA-3C-AALK-01</td>\n",
              "      <td>Breast Invasive Ductal Carcinoma</td>\n",
              "      <td>45.0</td>\n",
              "      <td>0.0764</td>\n",
              "      <td>52</td>\n",
              "      <td>0.3218</td>\n",
              "      <td>0.03</td>\n",
              "      <td>0:LIVING</td>\n",
              "      <td>Female</td>\n",
              "      <td>Not Hispanic Or Latino</td>\n",
              "      <td>Black or African American</td>\n",
              "      <td>BRCA_LumA</td>\n",
              "      <td>Infiltrating Ductal Carcinoma</td>\n",
              "      <td>Not Called</td>\n",
              "      <td>Not Called</td>\n",
              "      <td>Not Called</td>\n",
              "      <td>Not Called</td>\n",
              "      <td>Not Called</td>\n",
              "    </tr>\n",
              "    <tr>\n",
              "      <th>4</th>\n",
              "      <td>TCGA-4H-AAAK</td>\n",
              "      <td>TCGA-4H-AAAK-01</td>\n",
              "      <td>Breast Invasive Lobular Carcinoma</td>\n",
              "      <td>21.0</td>\n",
              "      <td>0.2364</td>\n",
              "      <td>50</td>\n",
              "      <td>0.3411</td>\n",
              "      <td>0.01</td>\n",
              "      <td>0:LIVING</td>\n",
              "      <td>Female</td>\n",
              "      <td>Not Hispanic Or Latino</td>\n",
              "      <td>White</td>\n",
              "      <td>BRCA_LumA</td>\n",
              "      <td>Infiltrating Lobular Carcinoma</td>\n",
              "      <td>Not Called</td>\n",
              "      <td>Not Called</td>\n",
              "      <td>Not Called</td>\n",
              "      <td>NaN</td>\n",
              "      <td>NaN</td>\n",
              "    </tr>\n",
              "    <tr>\n",
              "      <th>...</th>\n",
              "      <td>...</td>\n",
              "      <td>...</td>\n",
              "      <td>...</td>\n",
              "      <td>...</td>\n",
              "      <td>...</td>\n",
              "      <td>...</td>\n",
              "      <td>...</td>\n",
              "      <td>...</td>\n",
              "      <td>...</td>\n",
              "      <td>...</td>\n",
              "      <td>...</td>\n",
              "      <td>...</td>\n",
              "      <td>...</td>\n",
              "      <td>...</td>\n",
              "      <td>...</td>\n",
              "      <td>...</td>\n",
              "      <td>...</td>\n",
              "      <td>...</td>\n",
              "      <td>...</td>\n",
              "    </tr>\n",
              "    <tr>\n",
              "      <th>1079</th>\n",
              "      <td>TCGA-WT-AB44</td>\n",
              "      <td>TCGA-WT-AB44-01</td>\n",
              "      <td>Breast Invasive Lobular Carcinoma</td>\n",
              "      <td>31.0</td>\n",
              "      <td>0.3436</td>\n",
              "      <td>77</td>\n",
              "      <td>0.3186</td>\n",
              "      <td>0.24</td>\n",
              "      <td>0:LIVING</td>\n",
              "      <td>Female</td>\n",
              "      <td>Not Hispanic Or Latino</td>\n",
              "      <td>White</td>\n",
              "      <td>BRCA_LumA</td>\n",
              "      <td>Infiltrating Lobular Carcinoma</td>\n",
              "      <td>Not Called</td>\n",
              "      <td>Not Called</td>\n",
              "      <td>Not Called</td>\n",
              "      <td>Not Called</td>\n",
              "      <td>Not Called</td>\n",
              "    </tr>\n",
              "    <tr>\n",
              "      <th>1080</th>\n",
              "      <td>TCGA-XX-A899</td>\n",
              "      <td>TCGA-XX-A899-01</td>\n",
              "      <td>Breast Invasive Lobular Carcinoma</td>\n",
              "      <td>37.0</td>\n",
              "      <td>0.0625</td>\n",
              "      <td>46</td>\n",
              "      <td>0.3100</td>\n",
              "      <td>0.00</td>\n",
              "      <td>0:LIVING</td>\n",
              "      <td>Female</td>\n",
              "      <td>Not Hispanic Or Latino</td>\n",
              "      <td>White</td>\n",
              "      <td>BRCA_LumA</td>\n",
              "      <td>Infiltrating Lobular Carcinoma</td>\n",
              "      <td>Not Called</td>\n",
              "      <td>Not Called</td>\n",
              "      <td>Not Called</td>\n",
              "      <td>NaN</td>\n",
              "      <td>Not Called</td>\n",
              "    </tr>\n",
              "    <tr>\n",
              "      <th>1081</th>\n",
              "      <td>TCGA-XX-A89A</td>\n",
              "      <td>TCGA-XX-A89A-01</td>\n",
              "      <td>Breast Invasive Lobular Carcinoma</td>\n",
              "      <td>151.0</td>\n",
              "      <td>0.1764</td>\n",
              "      <td>68</td>\n",
              "      <td>0.3036</td>\n",
              "      <td>0.01</td>\n",
              "      <td>0:LIVING</td>\n",
              "      <td>Female</td>\n",
              "      <td>Not Hispanic Or Latino</td>\n",
              "      <td>White</td>\n",
              "      <td>BRCA_LumA</td>\n",
              "      <td>Infiltrating Lobular Carcinoma</td>\n",
              "      <td>Gained</td>\n",
              "      <td>Gained</td>\n",
              "      <td>Gained</td>\n",
              "      <td>Lost</td>\n",
              "      <td>Gained</td>\n",
              "    </tr>\n",
              "    <tr>\n",
              "      <th>1082</th>\n",
              "      <td>TCGA-Z7-A8R5</td>\n",
              "      <td>TCGA-Z7-A8R5-01</td>\n",
              "      <td>Breast Invasive Lobular Carcinoma</td>\n",
              "      <td>23.0</td>\n",
              "      <td>0.0452</td>\n",
              "      <td>61</td>\n",
              "      <td>0.3056</td>\n",
              "      <td>0.00</td>\n",
              "      <td>0:LIVING</td>\n",
              "      <td>Female</td>\n",
              "      <td>Not Hispanic Or Latino</td>\n",
              "      <td>White</td>\n",
              "      <td>BRCA_LumA</td>\n",
              "      <td>Infiltrating Lobular Carcinoma</td>\n",
              "      <td>Not Called</td>\n",
              "      <td>Not Called</td>\n",
              "      <td>Lost</td>\n",
              "      <td>Lost</td>\n",
              "      <td>Gained</td>\n",
              "    </tr>\n",
              "    <tr>\n",
              "      <th>1083</th>\n",
              "      <td>TCGA-Z7-A8R6</td>\n",
              "      <td>TCGA-Z7-A8R6-01</td>\n",
              "      <td>Breast Invasive Lobular Carcinoma</td>\n",
              "      <td>64.0</td>\n",
              "      <td>0.3367</td>\n",
              "      <td>46</td>\n",
              "      <td>0.3434</td>\n",
              "      <td>0.15</td>\n",
              "      <td>0:LIVING</td>\n",
              "      <td>Female</td>\n",
              "      <td>Not Hispanic Or Latino</td>\n",
              "      <td>White</td>\n",
              "      <td>BRCA_LumB</td>\n",
              "      <td>Infiltrating Lobular Carcinoma</td>\n",
              "      <td>NaN</td>\n",
              "      <td>Not Called</td>\n",
              "      <td>Gained</td>\n",
              "      <td>Lost</td>\n",
              "      <td>Not Called</td>\n",
              "    </tr>\n",
              "  </tbody>\n",
              "</table>\n",
              "<p>1084 rows × 19 columns</p>\n",
              "</div>"
            ],
            "text/plain": [
              "        Patient ID        Sample ID  ...  11q Status  12p Status\n",
              "0     TCGA-3C-AAAU  TCGA-3C-AAAU-01  ...        Lost  Not Called\n",
              "1     TCGA-3C-AALI  TCGA-3C-AALI-01  ...         NaN  Not Called\n",
              "2     TCGA-3C-AALJ  TCGA-3C-AALJ-01  ...         NaN  Not Called\n",
              "3     TCGA-3C-AALK  TCGA-3C-AALK-01  ...  Not Called  Not Called\n",
              "4     TCGA-4H-AAAK  TCGA-4H-AAAK-01  ...         NaN         NaN\n",
              "...            ...              ...  ...         ...         ...\n",
              "1079  TCGA-WT-AB44  TCGA-WT-AB44-01  ...  Not Called  Not Called\n",
              "1080  TCGA-XX-A899  TCGA-XX-A899-01  ...         NaN  Not Called\n",
              "1081  TCGA-XX-A89A  TCGA-XX-A89A-01  ...        Lost      Gained\n",
              "1082  TCGA-Z7-A8R5  TCGA-Z7-A8R5-01  ...        Lost      Gained\n",
              "1083  TCGA-Z7-A8R6  TCGA-Z7-A8R6-01  ...        Lost  Not Called\n",
              "\n",
              "[1084 rows x 19 columns]"
            ]
          },
          "metadata": {
            "tags": []
          },
          "execution_count": 32
        }
      ]
    },
    {
      "cell_type": "code",
      "metadata": {
        "colab": {
          "base_uri": "https://localhost:8080/",
          "height": 528
        },
        "id": "Mw8ByfvDCdXS",
        "outputId": "1f88a269-853c-422a-f3c2-a5ae37473779"
      },
      "source": [
        "import seaborn as sns\n",
        "import matplotlib.pyplot as plt\n",
        "sns.set()\n",
        "plt.figure(figsize=(35, 12))\n",
        "ax = sns.countplot(x = 'Tumor_Type', data=dados_pancan.query('Tumor_Type in @cod_pancan'), order= dados_pancan['Tumor_Type'].value_counts().index[0:10], palette='husl')\n",
        "ax.set_title('BRCA histologic type detailed')\n",
        "plt.title(\"BRCA histologic type detailed\", fontsize = 20)\n",
        "plt.xlabel(\"histological type\", fontsize = 18)\n",
        "plt.ylabel(\"samples\", fontsize = 18)\n",
        "plt.show()"
      ],
      "execution_count": 33,
      "outputs": [
        {
          "output_type": "display_data",
          "data": {
            "image/png": "[encoded data removed]",
            "text/plain": [
              "<Figure size 2520x864 with 1 Axes>"
            ]
          },
          "metadata": {
            "tags": []
          }
        }
      ]
    },
    {
      "cell_type": "code",
      "metadata": {
        "colab": {
          "base_uri": "https://localhost:8080/",
          "height": 285
        },
        "id": "ti1enZwaELab",
        "outputId": "209cb733-fe63-4e07-b9a5-1f9da9839c00"
      },
      "source": [
        "dados_pancan['Diagnosis Age'].hist(bins = 100)"
      ],
      "execution_count": 48,
      "outputs": [
        {
          "output_type": "execute_result",
          "data": {
            "text/plain": [
              "<matplotlib.axes._subplots.AxesSubplot at 0x7f77f3031590>"
            ]
          },
          "metadata": {
            "tags": []
          },
          "execution_count": 48
        },
        {
          "output_type": "display_data",
          "data": {
            "image/png": "[encoded data removed]",
            "text/plain": [
              "<Figure size 432x288 with 1 Axes>"
            ]
          },
          "metadata": {
            "tags": []
          }
        }
      ]
    },
    {
      "cell_type": "code",
      "metadata": {
        "colab": {
          "base_uri": "https://localhost:8080/",
          "height": 285
        },
        "id": "xcYzsB_2EYgz",
        "outputId": "92bc570d-3188-4753-a3f3-0ca04164feb1"
      },
      "source": [
        "dados_brca['days_to_death'].hist(bins = 100)"
      ],
      "execution_count": 52,
      "outputs": [
        {
          "output_type": "execute_result",
          "data": {
            "text/plain": [
              "<matplotlib.axes._subplots.AxesSubplot at 0x7f77f29b7850>"
            ]
          },
          "metadata": {
            "tags": []
          },
          "execution_count": 52
        },
        {
          "output_type": "display_data",
          "data": {
            "image/png": "[encoded data removed]",
            "text/plain": [
              "<Figure size 432x288 with 1 Axes>"
            ]
          },
          "metadata": {
            "tags": []
          }
        }
      ]
    },
    {
      "cell_type": "code",
      "metadata": {
        "colab": {
          "base_uri": "https://localhost:8080/",
          "height": 295
        },
        "id": "GsQFRA-KAV4x",
        "outputId": "0c7b12f7-fb27-47e3-df95-7f56aa1a1d12"
      },
      "source": [
        "dados_brca.describe()"
      ],
      "execution_count": 13,
      "outputs": [
        {
          "output_type": "execute_result",
          "data": {
            "text/html": [
              "<div>\n",
              "<style scoped>\n",
              "    .dataframe tbody tr th:only-of-type {\n",
              "        vertical-align: middle;\n",
              "    }\n",
              "\n",
              "    .dataframe tbody tr th {\n",
              "        vertical-align: top;\n",
              "    }\n",
              "\n",
              "    .dataframe thead th {\n",
              "        text-align: right;\n",
              "    }\n",
              "</style>\n",
              "<table border=\"1\" class=\"dataframe\">\n",
              "  <thead>\n",
              "    <tr style=\"text-align: right;\">\n",
              "      <th></th>\n",
              "      <th>Unnamed: 0</th>\n",
              "      <th>days_to_birth</th>\n",
              "      <th>days_to_death</th>\n",
              "      <th>days_to_last_followup</th>\n",
              "      <th>age_at_initial_pathologic_diagnosis</th>\n",
              "      <th>Tumor_Grade</th>\n",
              "      <th>MSI_status</th>\n",
              "      <th>HPV_Status</th>\n",
              "      <th>tobacco_smoking_history</th>\n",
              "    </tr>\n",
              "  </thead>\n",
              "  <tbody>\n",
              "    <tr>\n",
              "      <th>count</th>\n",
              "      <td>1087.000000</td>\n",
              "      <td>1072.000000</td>\n",
              "      <td>150.00000</td>\n",
              "      <td>983.000000</td>\n",
              "      <td>1087.000000</td>\n",
              "      <td>0.0</td>\n",
              "      <td>0.0</td>\n",
              "      <td>0.0</td>\n",
              "      <td>0.0</td>\n",
              "    </tr>\n",
              "    <tr>\n",
              "      <th>mean</th>\n",
              "      <td>544.000000</td>\n",
              "      <td>-21559.694963</td>\n",
              "      <td>1653.22000</td>\n",
              "      <td>1182.763988</td>\n",
              "      <td>58.388224</td>\n",
              "      <td>NaN</td>\n",
              "      <td>NaN</td>\n",
              "      <td>NaN</td>\n",
              "      <td>NaN</td>\n",
              "    </tr>\n",
              "    <tr>\n",
              "      <th>std</th>\n",
              "      <td>313.934176</td>\n",
              "      <td>4819.308365</td>\n",
              "      <td>1315.91844</td>\n",
              "      <td>1177.431111</td>\n",
              "      <td>13.229041</td>\n",
              "      <td>NaN</td>\n",
              "      <td>NaN</td>\n",
              "      <td>NaN</td>\n",
              "      <td>NaN</td>\n",
              "    </tr>\n",
              "    <tr>\n",
              "      <th>min</th>\n",
              "      <td>1.000000</td>\n",
              "      <td>-32873.000000</td>\n",
              "      <td>116.00000</td>\n",
              "      <td>-31.000000</td>\n",
              "      <td>26.000000</td>\n",
              "      <td>NaN</td>\n",
              "      <td>NaN</td>\n",
              "      <td>NaN</td>\n",
              "      <td>NaN</td>\n",
              "    </tr>\n",
              "    <tr>\n",
              "      <th>25%</th>\n",
              "      <td>272.500000</td>\n",
              "      <td>-24843.250000</td>\n",
              "      <td>729.50000</td>\n",
              "      <td>434.500000</td>\n",
              "      <td>49.000000</td>\n",
              "      <td>NaN</td>\n",
              "      <td>NaN</td>\n",
              "      <td>NaN</td>\n",
              "      <td>NaN</td>\n",
              "    </tr>\n",
              "    <tr>\n",
              "      <th>50%</th>\n",
              "      <td>544.000000</td>\n",
              "      <td>-21544.500000</td>\n",
              "      <td>1273.50000</td>\n",
              "      <td>760.000000</td>\n",
              "      <td>58.000000</td>\n",
              "      <td>NaN</td>\n",
              "      <td>NaN</td>\n",
              "      <td>NaN</td>\n",
              "      <td>NaN</td>\n",
              "    </tr>\n",
              "    <tr>\n",
              "      <th>75%</th>\n",
              "      <td>815.500000</td>\n",
              "      <td>-18011.000000</td>\n",
              "      <td>2370.00000</td>\n",
              "      <td>1562.000000</td>\n",
              "      <td>67.000000</td>\n",
              "      <td>NaN</td>\n",
              "      <td>NaN</td>\n",
              "      <td>NaN</td>\n",
              "      <td>NaN</td>\n",
              "    </tr>\n",
              "    <tr>\n",
              "      <th>max</th>\n",
              "      <td>1087.000000</td>\n",
              "      <td>-9706.000000</td>\n",
              "      <td>7455.00000</td>\n",
              "      <td>8605.000000</td>\n",
              "      <td>90.000000</td>\n",
              "      <td>NaN</td>\n",
              "      <td>NaN</td>\n",
              "      <td>NaN</td>\n",
              "      <td>NaN</td>\n",
              "    </tr>\n",
              "  </tbody>\n",
              "</table>\n",
              "</div>"
            ],
            "text/plain": [
              "        Unnamed: 0  days_to_birth  ...  HPV_Status  tobacco_smoking_history\n",
              "count  1087.000000    1072.000000  ...         0.0                      0.0\n",
              "mean    544.000000  -21559.694963  ...         NaN                      NaN\n",
              "std     313.934176    4819.308365  ...         NaN                      NaN\n",
              "min       1.000000  -32873.000000  ...         NaN                      NaN\n",
              "25%     272.500000  -24843.250000  ...         NaN                      NaN\n",
              "50%     544.000000  -21544.500000  ...         NaN                      NaN\n",
              "75%     815.500000  -18011.000000  ...         NaN                      NaN\n",
              "max    1087.000000   -9706.000000  ...         NaN                      NaN\n",
              "\n",
              "[8 rows x 9 columns]"
            ]
          },
          "metadata": {
            "tags": []
          },
          "execution_count": 13
        }
      ]
    },
    {
      "cell_type": "code",
      "metadata": {
        "id": "sbvgGO06A9yW"
      },
      "source": [
        "corr = dados_brca.loc[:,'patient':'Pan-Gyn Clusters'].corr()"
      ],
      "execution_count": 14,
      "outputs": []
    },
    {
      "cell_type": "code",
      "metadata": {
        "colab": {
          "base_uri": "https://localhost:8080/",
          "height": 203
        },
        "id": "ly-9bHg3BKJZ",
        "outputId": "d77432b4-3d2a-43e1-9098-ed8bbba7294c"
      },
      "source": [
        "corr.head()"
      ],
      "execution_count": 15,
      "outputs": [
        {
          "output_type": "execute_result",
          "data": {
            "text/html": [
              "<div>\n",
              "<style scoped>\n",
              "    .dataframe tbody tr th:only-of-type {\n",
              "        vertical-align: middle;\n",
              "    }\n",
              "\n",
              "    .dataframe tbody tr th {\n",
              "        vertical-align: top;\n",
              "    }\n",
              "\n",
              "    .dataframe thead th {\n",
              "        text-align: right;\n",
              "    }\n",
              "</style>\n",
              "<table border=\"1\" class=\"dataframe\">\n",
              "  <thead>\n",
              "    <tr style=\"text-align: right;\">\n",
              "      <th></th>\n",
              "      <th>days_to_birth</th>\n",
              "      <th>days_to_death</th>\n",
              "      <th>days_to_last_followup</th>\n",
              "      <th>age_at_initial_pathologic_diagnosis</th>\n",
              "      <th>Tumor_Grade</th>\n",
              "      <th>MSI_status</th>\n",
              "      <th>HPV_Status</th>\n",
              "      <th>tobacco_smoking_history</th>\n",
              "    </tr>\n",
              "  </thead>\n",
              "  <tbody>\n",
              "    <tr>\n",
              "      <th>days_to_birth</th>\n",
              "      <td>1.000000</td>\n",
              "      <td>0.168398</td>\n",
              "      <td>0.188337</td>\n",
              "      <td>-0.999759</td>\n",
              "      <td>NaN</td>\n",
              "      <td>NaN</td>\n",
              "      <td>NaN</td>\n",
              "      <td>NaN</td>\n",
              "    </tr>\n",
              "    <tr>\n",
              "      <th>days_to_death</th>\n",
              "      <td>0.168398</td>\n",
              "      <td>1.000000</td>\n",
              "      <td>0.983072</td>\n",
              "      <td>-0.167495</td>\n",
              "      <td>NaN</td>\n",
              "      <td>NaN</td>\n",
              "      <td>NaN</td>\n",
              "      <td>NaN</td>\n",
              "    </tr>\n",
              "    <tr>\n",
              "      <th>days_to_last_followup</th>\n",
              "      <td>0.188337</td>\n",
              "      <td>0.983072</td>\n",
              "      <td>1.000000</td>\n",
              "      <td>-0.180690</td>\n",
              "      <td>NaN</td>\n",
              "      <td>NaN</td>\n",
              "      <td>NaN</td>\n",
              "      <td>NaN</td>\n",
              "    </tr>\n",
              "    <tr>\n",
              "      <th>age_at_initial_pathologic_diagnosis</th>\n",
              "      <td>-0.999759</td>\n",
              "      <td>-0.167495</td>\n",
              "      <td>-0.180690</td>\n",
              "      <td>1.000000</td>\n",
              "      <td>NaN</td>\n",
              "      <td>NaN</td>\n",
              "      <td>NaN</td>\n",
              "      <td>NaN</td>\n",
              "    </tr>\n",
              "    <tr>\n",
              "      <th>Tumor_Grade</th>\n",
              "      <td>NaN</td>\n",
              "      <td>NaN</td>\n",
              "      <td>NaN</td>\n",
              "      <td>NaN</td>\n",
              "      <td>NaN</td>\n",
              "      <td>NaN</td>\n",
              "      <td>NaN</td>\n",
              "      <td>NaN</td>\n",
              "    </tr>\n",
              "  </tbody>\n",
              "</table>\n",
              "</div>"
            ],
            "text/plain": [
              "                                     days_to_birth  ...  tobacco_smoking_history\n",
              "days_to_birth                             1.000000  ...                      NaN\n",
              "days_to_death                             0.168398  ...                      NaN\n",
              "days_to_last_followup                     0.188337  ...                      NaN\n",
              "age_at_initial_pathologic_diagnosis      -0.999759  ...                      NaN\n",
              "Tumor_Grade                                    NaN  ...                      NaN\n",
              "\n",
              "[5 rows x 8 columns]"
            ]
          },
          "metadata": {
            "tags": []
          },
          "execution_count": 15
        }
      ]
    },
    {
      "cell_type": "code",
      "metadata": {
        "colab": {
          "base_uri": "https://localhost:8080/",
          "height": 720
        },
        "id": "ywd9IRLiBUOt",
        "outputId": "e3e0458f-1102-4256-dd18-935726aaaa27"
      },
      "source": [
        "import numpy as np\n",
        "import matplotlib.pyplot as plt\n",
        "import seaborn as sns\n",
        "\n",
        "\n",
        "# Generate a mask for the upper triangle\n",
        "mask = np.triu(np.ones_like(corr, dtype=bool))\n",
        "\n",
        "# Set up the matplotlib figure\n",
        "f, ax = plt.subplots(figsize=(11, 9))\n",
        "\n",
        "# Generate a custom diverging colormap\n",
        "cmap = sns.diverging_palette(230, 20, as_cmap=True)\n",
        "\n",
        "# Draw the heatmap with the mask and correct aspect ratio\n",
        "sns.heatmap(corr, mask=mask, cmap=cmap, center=0,\n",
        "            square=True, linewidths=.5, cbar_kws={\"shrink\": .5})"
      ],
      "execution_count": 18,
      "outputs": [
        {
          "output_type": "execute_result",
          "data": {
            "text/plain": [
              "<matplotlib.axes._subplots.AxesSubplot at 0x7fed16bd49d0>"
            ]
          },
          "metadata": {
            "tags": []
          },
          "execution_count": 18
        },
        {
          "output_type": "display_data",
          "data": {
            "image/png": "[encoded data removed]",
            "text/plain": [
              "<Figure size 792x648 with 2 Axes>"
            ]
          },
          "metadata": {
            "tags": [],
            "needs_background": "light"
          }
        }
      ]
    },
    {
      "cell_type": "code",
      "metadata": {
        "colab": {
          "base_uri": "https://localhost:8080/",
          "height": 295
        },
        "id": "M_Ey8PBNVrCA",
        "outputId": "48200b48-70fb-402e-f099-745984195076"
      },
      "source": [
        "dados_pancan.describe()"
      ],
      "execution_count": 34,
      "outputs": [
        {
          "output_type": "execute_result",
          "data": {
            "text/html": [
              "<div>\n",
              "<style scoped>\n",
              "    .dataframe tbody tr th:only-of-type {\n",
              "        vertical-align: middle;\n",
              "    }\n",
              "\n",
              "    .dataframe tbody tr th {\n",
              "        vertical-align: top;\n",
              "    }\n",
              "\n",
              "    .dataframe thead th {\n",
              "        text-align: right;\n",
              "    }\n",
              "</style>\n",
              "<table border=\"1\" class=\"dataframe\">\n",
              "  <thead>\n",
              "    <tr style=\"text-align: right;\">\n",
              "      <th></th>\n",
              "      <th>Mutation Count</th>\n",
              "      <th>Fraction Genome Altered</th>\n",
              "      <th>Diagnosis Age</th>\n",
              "      <th>MSI MANTIS Score</th>\n",
              "      <th>MSIsensor Score</th>\n",
              "    </tr>\n",
              "  </thead>\n",
              "  <tbody>\n",
              "    <tr>\n",
              "      <th>count</th>\n",
              "      <td>1009.000000</td>\n",
              "      <td>1068.000000</td>\n",
              "      <td>1084.000000</td>\n",
              "      <td>1034.000000</td>\n",
              "      <td>1075.000000</td>\n",
              "    </tr>\n",
              "    <tr>\n",
              "      <th>mean</th>\n",
              "      <td>83.533201</td>\n",
              "      <td>0.295378</td>\n",
              "      <td>58.420664</td>\n",
              "      <td>0.303220</td>\n",
              "      <td>0.519991</td>\n",
              "    </tr>\n",
              "    <tr>\n",
              "      <th>std</th>\n",
              "      <td>283.025388</td>\n",
              "      <td>0.206738</td>\n",
              "      <td>13.219721</td>\n",
              "      <td>0.044837</td>\n",
              "      <td>1.762630</td>\n",
              "    </tr>\n",
              "    <tr>\n",
              "      <th>min</th>\n",
              "      <td>1.000000</td>\n",
              "      <td>0.000000</td>\n",
              "      <td>26.000000</td>\n",
              "      <td>0.217000</td>\n",
              "      <td>0.000000</td>\n",
              "    </tr>\n",
              "    <tr>\n",
              "      <th>25%</th>\n",
              "      <td>26.000000</td>\n",
              "      <td>0.126050</td>\n",
              "      <td>49.000000</td>\n",
              "      <td>0.277600</td>\n",
              "      <td>0.030000</td>\n",
              "    </tr>\n",
              "    <tr>\n",
              "      <th>50%</th>\n",
              "      <td>39.000000</td>\n",
              "      <td>0.251150</td>\n",
              "      <td>58.000000</td>\n",
              "      <td>0.297100</td>\n",
              "      <td>0.190000</td>\n",
              "    </tr>\n",
              "    <tr>\n",
              "      <th>75%</th>\n",
              "      <td>69.000000</td>\n",
              "      <td>0.436350</td>\n",
              "      <td>67.000000</td>\n",
              "      <td>0.321900</td>\n",
              "      <td>0.535000</td>\n",
              "    </tr>\n",
              "    <tr>\n",
              "      <th>max</th>\n",
              "      <td>5392.000000</td>\n",
              "      <td>0.997100</td>\n",
              "      <td>90.000000</td>\n",
              "      <td>0.828300</td>\n",
              "      <td>32.920000</td>\n",
              "    </tr>\n",
              "  </tbody>\n",
              "</table>\n",
              "</div>"
            ],
            "text/plain": [
              "       Mutation Count  ...  MSIsensor Score\n",
              "count     1009.000000  ...      1075.000000\n",
              "mean        83.533201  ...         0.519991\n",
              "std        283.025388  ...         1.762630\n",
              "min          1.000000  ...         0.000000\n",
              "25%         26.000000  ...         0.030000\n",
              "50%         39.000000  ...         0.190000\n",
              "75%         69.000000  ...         0.535000\n",
              "max       5392.000000  ...        32.920000\n",
              "\n",
              "[8 rows x 5 columns]"
            ]
          },
          "metadata": {
            "tags": []
          },
          "execution_count": 34
        }
      ]
    },
    {
      "cell_type": "code",
      "metadata": {
        "id": "lLuD5vpRZSY2"
      },
      "source": [
        "corr = dados_pancan.loc[:,'Cancer Type Detailed':'12p Status'].corr()"
      ],
      "execution_count": 35,
      "outputs": []
    },
    {
      "cell_type": "code",
      "metadata": {
        "colab": {
          "base_uri": "https://localhost:8080/",
          "height": 203
        },
        "id": "isbtJdwrZouK",
        "outputId": "e33797b2-dc66-40cd-a760-428b7c9dfe64"
      },
      "source": [
        "corr.head()"
      ],
      "execution_count": 36,
      "outputs": [
        {
          "output_type": "execute_result",
          "data": {
            "text/html": [
              "<div>\n",
              "<style scoped>\n",
              "    .dataframe tbody tr th:only-of-type {\n",
              "        vertical-align: middle;\n",
              "    }\n",
              "\n",
              "    .dataframe tbody tr th {\n",
              "        vertical-align: top;\n",
              "    }\n",
              "\n",
              "    .dataframe thead th {\n",
              "        text-align: right;\n",
              "    }\n",
              "</style>\n",
              "<table border=\"1\" class=\"dataframe\">\n",
              "  <thead>\n",
              "    <tr style=\"text-align: right;\">\n",
              "      <th></th>\n",
              "      <th>Mutation Count</th>\n",
              "      <th>Fraction Genome Altered</th>\n",
              "      <th>Diagnosis Age</th>\n",
              "      <th>MSI MANTIS Score</th>\n",
              "      <th>MSIsensor Score</th>\n",
              "    </tr>\n",
              "  </thead>\n",
              "  <tbody>\n",
              "    <tr>\n",
              "      <th>Mutation Count</th>\n",
              "      <td>1.000000</td>\n",
              "      <td>0.011245</td>\n",
              "      <td>0.072447</td>\n",
              "      <td>0.196616</td>\n",
              "      <td>0.248696</td>\n",
              "    </tr>\n",
              "    <tr>\n",
              "      <th>Fraction Genome Altered</th>\n",
              "      <td>0.011245</td>\n",
              "      <td>1.000000</td>\n",
              "      <td>0.011558</td>\n",
              "      <td>0.058065</td>\n",
              "      <td>0.148774</td>\n",
              "    </tr>\n",
              "    <tr>\n",
              "      <th>Diagnosis Age</th>\n",
              "      <td>0.072447</td>\n",
              "      <td>0.011558</td>\n",
              "      <td>1.000000</td>\n",
              "      <td>0.042685</td>\n",
              "      <td>0.079851</td>\n",
              "    </tr>\n",
              "    <tr>\n",
              "      <th>MSI MANTIS Score</th>\n",
              "      <td>0.196616</td>\n",
              "      <td>0.058065</td>\n",
              "      <td>0.042685</td>\n",
              "      <td>1.000000</td>\n",
              "      <td>0.724051</td>\n",
              "    </tr>\n",
              "    <tr>\n",
              "      <th>MSIsensor Score</th>\n",
              "      <td>0.248696</td>\n",
              "      <td>0.148774</td>\n",
              "      <td>0.079851</td>\n",
              "      <td>0.724051</td>\n",
              "      <td>1.000000</td>\n",
              "    </tr>\n",
              "  </tbody>\n",
              "</table>\n",
              "</div>"
            ],
            "text/plain": [
              "                         Mutation Count  ...  MSIsensor Score\n",
              "Mutation Count                 1.000000  ...         0.248696\n",
              "Fraction Genome Altered        0.011245  ...         0.148774\n",
              "Diagnosis Age                  0.072447  ...         0.079851\n",
              "MSI MANTIS Score               0.196616  ...         0.724051\n",
              "MSIsensor Score                0.248696  ...         1.000000\n",
              "\n",
              "[5 rows x 5 columns]"
            ]
          },
          "metadata": {
            "tags": []
          },
          "execution_count": 36
        }
      ]
    },
    {
      "cell_type": "code",
      "metadata": {
        "colab": {
          "base_uri": "https://localhost:8080/",
          "height": 668
        },
        "id": "CRLE8Q4QZw0E",
        "outputId": "f1bb7401-cc93-42c8-9990-e61c0bedd140"
      },
      "source": [
        "import numpy as np\n",
        "import matplotlib.pyplot as plt\n",
        "import seaborn as sns\n",
        "\n",
        "\n",
        "# Generate a mask for the upper triangle\n",
        "mask = np.triu(np.ones_like(corr, dtype=bool))\n",
        "\n",
        "# Set up the matplotlib figure\n",
        "f, ax = plt.subplots(figsize=(11, 9))\n",
        "\n",
        "# Generate a custom diverging colormap\n",
        "cmap = sns.diverging_palette(230, 20, as_cmap=True)\n",
        "\n",
        "# Draw the heatmap with the mask and correct aspect ratio\n",
        "sns.heatmap(corr, mask=mask, cmap=cmap, center=0,\n",
        "            square=True, linewidths=.5, cbar_kws={\"shrink\": .5})"
      ],
      "execution_count": 37,
      "outputs": [
        {
          "output_type": "execute_result",
          "data": {
            "text/plain": [
              "<matplotlib.axes._subplots.AxesSubplot at 0x7fed0e2a93d0>"
            ]
          },
          "metadata": {
            "tags": []
          },
          "execution_count": 37
        },
        {
          "output_type": "display_data",
          "data": {
            "image/png": "[encoded data removed]",
            "text/plain": [
              "<Figure size 792x648 with 2 Axes>"
            ]
          },
          "metadata": {
            "tags": [],
            "needs_background": "light"
          }
        }
      ]
    }
  ]
}